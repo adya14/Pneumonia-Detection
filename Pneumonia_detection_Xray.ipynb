{
  "metadata": {
    "kernelspec": {
      "language": "python",
      "display_name": "Python 3",
      "name": "python3"
    },
    "language_info": {
      "name": "python",
      "version": "3.10.12",
      "mimetype": "text/x-python",
      "codemirror_mode": {
        "name": "ipython",
        "version": 3
      },
      "pygments_lexer": "ipython3",
      "nbconvert_exporter": "python",
      "file_extension": ".py"
    },
    "kaggle": {
      "accelerator": "nvidiaTeslaT4",
      "dataSources": [
        {
          "sourceId": 23812,
          "sourceType": "datasetVersion",
          "datasetId": 17810
        }
      ],
      "dockerImageVersionId": 30588,
      "isInternetEnabled": false,
      "language": "python",
      "sourceType": "notebook",
      "isGpuEnabled": true
    },
    "colab": {
      "name": "Pneumonia detection Xray",
      "provenance": [],
      "include_colab_link": true
    }
  },
  "nbformat_minor": 0,
  "nbformat": 4,
  "cells": [
    {
      "cell_type": "markdown",
      "metadata": {
        "id": "view-in-github",
        "colab_type": "text"
      },
      "source": [
        "<a href=\"https://colab.research.google.com/github/adya14/Pneumonia-Detection/blob/main/Pneumonia_detection_Xray.ipynb\" target=\"_parent\"><img src=\"https://colab.research.google.com/assets/colab-badge.svg\" alt=\"Open In Colab\"/></a>"
      ]
    },
    {
      "source": [
        "# IMPORTANT: RUN THIS CELL IN ORDER TO IMPORT YOUR KAGGLE DATA SOURCES,\n",
        "# THEN FEEL FREE TO DELETE THIS CELL.\n",
        "# NOTE: THIS NOTEBOOK ENVIRONMENT DIFFERS FROM KAGGLE'S PYTHON\n",
        "# ENVIRONMENT SO THERE MAY BE MISSING LIBRARIES USED BY YOUR\n",
        "# NOTEBOOK.\n",
        "import kagglehub\n",
        "paultimothymooney_chest_xray_pneumonia_path = kagglehub.dataset_download('paultimothymooney/chest-xray-pneumonia')\n",
        "\n",
        "print('Data source import complete.')\n"
      ],
      "metadata": {
        "id": "h_VtdQdNiVSV"
      },
      "cell_type": "code",
      "outputs": [],
      "execution_count": null
    },
    {
      "cell_type": "code",
      "source": [
        "# This Python 3 environment comes with many helpful analytics libraries installed\n",
        "# It is defined by the kaggle/python Docker image: https://github.com/kaggle/docker-python\n",
        "# For example, here's several helpful packages to load\n",
        "\n",
        "import numpy as np # linear algebra\n",
        "import pandas as pd # data processing, CSV file I/O (e.g. pd.read_csv)\n",
        "\n",
        "# Input data files are available in the read-only \"../input/\" directory\n",
        "# For example, running this (by clicking run or pressing Shift+Enter) will list all files under the input directory\n",
        "\n",
        "import os\n",
        "for dirname, _, filenames in os.walk('/kaggle/input'):\n",
        "    for filename in filenames:\n",
        "        print(os.path.join(dirname, filename))\n",
        "\n",
        "# You can write up to 20GB to the current directory (/kaggle/working/) that gets preserved as output when you create a version using \"Save & Run All\"\n",
        "# You can also write temporary files to /kaggle/temp/, but they won't be saved outside of the current session"
      ],
      "metadata": {
        "_uuid": "8f2839f25d086af736a60e9eeb907d3b93b6e0e5",
        "_cell_guid": "b1076dfc-b9ad-4769-8c92-a6c4dae69d19",
        "execution": {
          "iopub.status.busy": "2024-11-22T10:47:30.06372Z",
          "iopub.execute_input": "2024-11-22T10:47:30.063979Z",
          "iopub.status.idle": "2024-11-22T10:47:51.713611Z",
          "shell.execute_reply.started": "2024-11-22T10:47:30.063956Z",
          "shell.execute_reply": "2024-11-22T10:47:51.712847Z"
        },
        "trusted": true,
        "id": "LMXlUt-biVSZ"
      },
      "outputs": [],
      "execution_count": null
    },
    {
      "cell_type": "code",
      "source": [
        "import keras\n",
        "from keras.models import Sequential\n",
        "from keras.layers import Conv2D,Flatten,Dense,MaxPooling2D,Dropout,BatchNormalization\n",
        "from sklearn.metrics import accuracy_score\n",
        "import ipywidgets as widgets\n",
        "import io\n",
        "from PIL import Image\n",
        "import tqdm\n",
        "from sklearn.model_selection import train_test_split\n",
        "import cv2\n",
        "from sklearn.utils import shuffle\n",
        "import tensorflow as tf\n",
        "import os\n",
        "import numpy as np\n",
        "import pandas as pd\n",
        "from tensorflow.keras import activations"
      ],
      "metadata": {
        "execution": {
          "iopub.status.busy": "2024-11-22T10:50:01.746188Z",
          "iopub.execute_input": "2024-11-22T10:50:01.746521Z",
          "iopub.status.idle": "2024-11-22T10:50:01.751676Z",
          "shell.execute_reply.started": "2024-11-22T10:50:01.746496Z",
          "shell.execute_reply": "2024-11-22T10:50:01.75081Z"
        },
        "trusted": true,
        "id": "r1aWK4FeiVSb"
      },
      "outputs": [],
      "execution_count": null
    },
    {
      "cell_type": "code",
      "source": [
        "X_train = []\n",
        "Y_train = []\n",
        "image_size = 224\n",
        "labels = ['NORMAL','PNEUMONIA']\n",
        "for i in labels:\n",
        "    folderPath = os.path.join('/kaggle/input/chest-xray-pneumonia/chest_xray/train',i)\n",
        "    for j in os.listdir(folderPath):\n",
        "        img = cv2.imread(os.path.join(folderPath,j))\n",
        "        img = cv2.resize(img,(image_size,image_size))\n",
        "        X_train.append(img)\n",
        "        Y_train.append(i)\n",
        "\n",
        "for i in labels:\n",
        "    folderPath = os.path.join('/kaggle/input/chest-xray-pneumonia/chest_xray/test',i)\n",
        "    for j in os.listdir(folderPath):\n",
        "        img = cv2.imread(os.path.join(folderPath,j))\n",
        "        img = cv2.resize(img,(image_size,image_size))\n",
        "        X_train.append(img)\n",
        "        Y_train.append(i)\n",
        "\n",
        "for i in labels:\n",
        "    folderPath = os.path.join('/kaggle/input/chest-xray-pneumonia/chest_xray/val',i)\n",
        "    for j in os.listdir(folderPath):\n",
        "        img = cv2.imread(os.path.join(folderPath,j))\n",
        "        img = cv2.resize(img,(image_size,image_size))\n",
        "        X_train.append(img)\n",
        "        Y_train.append(i)\n",
        "\n",
        "X_train = np.array(X_train)\n",
        "Y_train = np.array(Y_train)"
      ],
      "metadata": {
        "execution": {
          "iopub.status.busy": "2024-11-22T10:50:15.846139Z",
          "iopub.execute_input": "2024-11-22T10:50:15.8465Z",
          "iopub.status.idle": "2024-11-22T10:51:26.058526Z",
          "shell.execute_reply.started": "2024-11-22T10:50:15.846473Z",
          "shell.execute_reply": "2024-11-22T10:51:26.057812Z"
        },
        "trusted": true,
        "id": "hoiKsGbxiVSc"
      },
      "outputs": [],
      "execution_count": null
    },
    {
      "cell_type": "code",
      "source": [
        "img = cv2.imread(os.path.join(folderPath,j))\n",
        "img.shape"
      ],
      "metadata": {
        "execution": {
          "iopub.status.busy": "2024-11-22T10:51:50.508655Z",
          "iopub.execute_input": "2024-11-22T10:51:50.508988Z",
          "iopub.status.idle": "2024-11-22T10:51:50.534234Z",
          "shell.execute_reply.started": "2024-11-22T10:51:50.508961Z",
          "shell.execute_reply": "2024-11-22T10:51:50.533396Z"
        },
        "trusted": true,
        "id": "IFS4edoqiVSc"
      },
      "outputs": [],
      "execution_count": null
    },
    {
      "cell_type": "code",
      "source": [
        "X_train,Y_train = shuffle(X_train,Y_train,random_state=101)\n",
        "X_train.shape\n"
      ],
      "metadata": {
        "execution": {
          "iopub.status.busy": "2024-11-22T10:52:02.908493Z",
          "iopub.execute_input": "2024-11-22T10:52:02.908837Z",
          "iopub.status.idle": "2024-11-22T10:52:03.160959Z",
          "shell.execute_reply.started": "2024-11-22T10:52:02.908813Z",
          "shell.execute_reply": "2024-11-22T10:52:03.160197Z"
        },
        "trusted": true,
        "id": "jTGkZ5ieiVSd"
      },
      "outputs": [],
      "execution_count": null
    },
    {
      "cell_type": "code",
      "source": [
        "X_train,X_test,y_train,y_test = train_test_split(X_train,Y_train,test_size=0.1,random_state=101)"
      ],
      "metadata": {
        "execution": {
          "iopub.status.busy": "2024-11-22T10:52:12.167391Z",
          "iopub.execute_input": "2024-11-22T10:52:12.168003Z",
          "iopub.status.idle": "2024-11-22T10:52:12.410019Z",
          "shell.execute_reply.started": "2024-11-22T10:52:12.167971Z",
          "shell.execute_reply": "2024-11-22T10:52:12.409075Z"
        },
        "trusted": true,
        "id": "QHNXmdi_iVSd"
      },
      "outputs": [],
      "execution_count": null
    },
    {
      "cell_type": "code",
      "source": [
        "y_train_new = []\n",
        "for i in y_train:\n",
        "    y_train_new.append(labels.index(i))\n",
        "    y_train=y_train_new\n",
        "    y_train = tf.keras.utils.to_categorical(y_train)\n",
        "\n",
        "y_test_new = []\n",
        "for i in y_test:\n",
        "    y_test_new.append(labels.index(i))\n",
        "    y_test=y_test_new\n",
        "    y_test = tf.keras.utils.to_categorical(y_test)"
      ],
      "metadata": {
        "execution": {
          "iopub.status.busy": "2024-11-22T10:53:01.36585Z",
          "iopub.execute_input": "2024-11-22T10:53:01.366378Z",
          "iopub.status.idle": "2024-11-22T10:53:02.027027Z",
          "shell.execute_reply.started": "2024-11-22T10:53:01.366344Z",
          "shell.execute_reply": "2024-11-22T10:53:02.02635Z"
        },
        "trusted": true,
        "id": "k8oYcV6wiVSe"
      },
      "outputs": [],
      "execution_count": null
    },
    {
      "cell_type": "code",
      "source": [
        "model = Sequential()\n",
        "\n",
        "\n",
        "model.add(Conv2D(16, (3, 3), activation='relu',  padding='same', input_shape=(224, 224, 3)))\n",
        "model.add(MaxPooling2D(2, 2))\n",
        "\n",
        "\n",
        "model.add(Conv2D(32, (3, 3), activation='relu', padding='same'))\n",
        "model.add(MaxPooling2D(2, 2))\n",
        "\n",
        "model.add(Conv2D(64, (3, 3), activation='relu', padding='same'))\n",
        "model.add(MaxPooling2D(2, 2))\n",
        "\n",
        "model.add(Conv2D(64, (3, 3), activation='relu', padding='same'))\n",
        "model.add(MaxPooling2D(2, 2))\n",
        "\n",
        "\n",
        "model.add(Conv2D(128, (3, 3), activation='relu', padding='same'))\n",
        "model.add(MaxPooling2D(2, 2))\n",
        "\n",
        "model.add(Flatten())\n",
        "\n",
        "model.add(Dense(128, activation='relu'))\n",
        "model.add(Dropout(0.20))\n",
        "\n",
        "model.add(Dense(64, activation='relu'))\n",
        "model.add(Dropout(0.20))\n",
        "\n",
        "model.add(Dense(2, activation='softmax'))"
      ],
      "metadata": {
        "execution": {
          "iopub.status.busy": "2024-11-22T10:53:14.134356Z",
          "iopub.execute_input": "2024-11-22T10:53:14.134674Z",
          "iopub.status.idle": "2024-11-22T10:53:15.423026Z",
          "shell.execute_reply.started": "2024-11-22T10:53:14.134649Z",
          "shell.execute_reply": "2024-11-22T10:53:15.422157Z"
        },
        "trusted": true,
        "id": "Nfmsqr98iVSe"
      },
      "outputs": [],
      "execution_count": null
    },
    {
      "cell_type": "code",
      "source": [
        "model.summary()"
      ],
      "metadata": {
        "execution": {
          "iopub.status.busy": "2024-11-22T10:53:20.738561Z",
          "iopub.execute_input": "2024-11-22T10:53:20.739228Z",
          "iopub.status.idle": "2024-11-22T10:53:20.780521Z",
          "shell.execute_reply.started": "2024-11-22T10:53:20.739195Z",
          "shell.execute_reply": "2024-11-22T10:53:20.779691Z"
        },
        "trusted": true,
        "id": "_etvv38ViVSf"
      },
      "outputs": [],
      "execution_count": null
    },
    {
      "cell_type": "code",
      "source": [
        "model.compile(loss='categorical_crossentropy',optimizer='Adam',metrics=['accuracy'])\n",
        "history = model.fit(X_train,y_train,epochs=20,validation_split=0.1)"
      ],
      "metadata": {
        "execution": {
          "iopub.status.busy": "2024-11-22T10:53:26.61879Z",
          "iopub.execute_input": "2024-11-22T10:53:26.619106Z",
          "iopub.status.idle": "2024-11-22T10:54:47.071132Z",
          "shell.execute_reply.started": "2024-11-22T10:53:26.61908Z",
          "shell.execute_reply": "2024-11-22T10:54:47.07028Z"
        },
        "trusted": true,
        "id": "oAP594DSiVSf"
      },
      "outputs": [],
      "execution_count": null
    },
    {
      "cell_type": "code",
      "source": [
        "history = model.evaluate(X_test,y_test)"
      ],
      "metadata": {
        "execution": {
          "iopub.status.busy": "2024-11-22T10:55:53.598988Z",
          "iopub.execute_input": "2024-11-22T10:55:53.599345Z",
          "iopub.status.idle": "2024-11-22T10:55:54.119498Z",
          "shell.execute_reply.started": "2024-11-22T10:55:53.599316Z",
          "shell.execute_reply": "2024-11-22T10:55:54.118706Z"
        },
        "trusted": true,
        "id": "fmfLU9euiVSf"
      },
      "outputs": [],
      "execution_count": null
    }
  ]
}